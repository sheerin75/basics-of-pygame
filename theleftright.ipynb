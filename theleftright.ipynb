{
 "cells": [
  {
   "cell_type": "code",
   "execution_count": null,
   "metadata": {},
   "outputs": [
    {
     "name": "stdout",
     "output_type": "stream",
     "text": [
      "move rect right\n",
      "move rect right\n",
      "move rect right\n",
      "move rect right\n",
      "move rect right\n",
      "move rect right\n",
      "move rect right\n",
      "274\n",
      "move rect right\n",
      "move rect left\n",
      "274\n",
      "274\n",
      "274\n"
     ]
    }
   ],
   "source": [
    "import pygame,sys\n",
    "from pygame.locals import *\n",
    "\n",
    "catx=10\n",
    "caty=10\n",
    "screen= 0\n",
    "\n",
    "\n",
    "def myquit():\n",
    "    pygame.quit()\n",
    "    sys.exit()\n",
    "\n",
    "def clear_inputs(events):\n",
    "    global catx,caty,screen\n",
    "    for event in events:\n",
    "        if event.type == QUIT:\n",
    "            pygame.quit()\n",
    "        \n",
    "        else:\n",
    "            if event.type == KEYDOWN:\n",
    "                if event.key==K_ESCAPE:\n",
    "                    myquit()\n",
    "                elif event.key==K_LEFT:\n",
    "                    catx =catx-5\n",
    "                    print('move rect left')\n",
    "                elif event.key==K_RIGHT:\n",
    "                    catx=catx+5\n",
    "                    print('move rect right')\n",
    "                elif event.key==K_UP:\n",
    "                    catx=catx*1\n",
    "                    print('move rect right')\n",
    "                    \n",
    "                else:\n",
    "                    print(event.key)\n",
    "    screen.fill((0,0,0))\n",
    "    pygame.draw.rect(screen,(255,255,255),(catx,50,50,10))\n",
    "    pygame.display.update()\n",
    "    \n",
    "def main():\n",
    "    global screen\n",
    "    pygame.init()\n",
    "    window=pygame.display.set_mode((600,480))\n",
    "    pygame.display.set_caption('silther.eat=THE SNAKE GAME')\n",
    "    screen=pygame.display.get_surface()\n",
    "    \n",
    "    pygame.display.update()  \n",
    "    while True:\n",
    "        clear_inputs(pygame.event.get())\n",
    "\n",
    "main()\n",
    "\n",
    "                \n",
    "                    \n",
    "        \n",
    "        \n",
    "\n"
   ]
  },
  {
   "cell_type": "code",
   "execution_count": null,
   "metadata": {},
   "outputs": [],
   "source": []
  },
  {
   "cell_type": "code",
   "execution_count": null,
   "metadata": {},
   "outputs": [],
   "source": []
  }
 ],
 "metadata": {
  "kernelspec": {
   "display_name": "Python 3",
   "language": "python",
   "name": "python3"
  },
  "language_info": {
   "codemirror_mode": {
    "name": "ipython",
    "version": 3
   },
   "file_extension": ".py",
   "mimetype": "text/x-python",
   "name": "python",
   "nbconvert_exporter": "python",
   "pygments_lexer": "ipython3",
   "version": "3.7.4"
  }
 },
 "nbformat": 4,
 "nbformat_minor": 2
}
